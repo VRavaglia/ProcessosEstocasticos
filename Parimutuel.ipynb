{
 "cells": [
  {
   "cell_type": "code",
   "execution_count": 2,
   "metadata": {},
   "outputs": [],
   "source": [
    "import numpy as np\n",
    "import random\n",
    "import matplotlib.pyplot as plt"
   ]
  },
  {
   "cell_type": "code",
   "execution_count": 98,
   "metadata": {},
   "outputs": [],
   "source": [
    "def strat_diversifica(prior, dinheiro, cavalo):\n",
    "    return prior[cavalo]*dinheiro\n",
    "\n",
    "\n",
    "def expect_eg(prior, PI, C):\n",
    "    Js = []\n",
    "    for i in range(0, C):\n",
    "        J = prior[i]/PI[i]\n",
    "        Js.append(J)\n",
    "        \n",
    "    return np.argwhere(Js == np.amax(Js))\n",
    "    \n",
    "def strat_eg(prior, PI, C, dinheiro, cavalo):\n",
    "    best = expect_eq(prior, PI, C)\n",
    "    \n",
    "    prop = 1/len(best)\n",
    "    if cavalo in best:\n",
    "        return dinheiro * prop*0.99\n",
    "    return 0.01*1/(C - len(best))\n",
    "    "
   ]
  },
  {
   "cell_type": "code",
   "execution_count": 99,
   "metadata": {},
   "outputs": [
    {
     "name": "stdout",
     "output_type": "stream",
     "text": [
      "\n",
      "[0. 0. 0. 0. 0. 0. 0. 0.]\n",
      "[0.         0.         0.13793103 0.         0.         0.\n",
      " 0.         0.        ]\n",
      "[0.         0.         0.         0.28735632 0.28735632 0.28735632\n",
      " 0.         0.        ]\n",
      "[0. 0. 0. 0. 0. 0. 0. 0.]\n",
      "\n",
      "0.0\n",
      "0.0\n",
      "0.13793103448275865\n",
      "0.28735632183908044\n",
      "0.28735632183908044\n",
      "0.28735632183908044\n",
      "0.0\n",
      "0.0\n",
      "\n"
     ]
    },
    {
     "name": "stderr",
     "output_type": "stream",
     "text": [
      "/home/netware/users/raposo/anaconda3/lib/python3.7/site-packages/ipykernel_launcher.py:36: RuntimeWarning: divide by zero encountered in true_divide\n",
      "/home/netware/users/raposo/anaconda3/lib/python3.7/site-packages/ipykernel_launcher.py:50: RuntimeWarning: invalid value encountered in multiply\n",
      "/home/netware/users/raposo/anaconda3/lib/python3.7/site-packages/ipykernel_launcher.py:8: RuntimeWarning: divide by zero encountered in double_scalars\n",
      "  \n",
      "/home/netware/users/raposo/anaconda3/lib/python3.7/site-packages/ipykernel_launcher.py:8: RuntimeWarning: invalid value encountered in double_scalars\n",
      "  \n"
     ]
    },
    {
     "ename": "ZeroDivisionError",
     "evalue": "division by zero",
     "output_type": "error",
     "traceback": [
      "\u001b[0;31m---------------------------------------------------------------------------\u001b[0m",
      "\u001b[0;31mZeroDivisionError\u001b[0m                         Traceback (most recent call last)",
      "\u001b[0;32m<ipython-input-99-c739a6fe09a7>\u001b[0m in \u001b[0;36m<module>\u001b[0;34m\u001b[0m\n\u001b[1;32m     68\u001b[0m             \u001b[0;32mfor\u001b[0m \u001b[0mj\u001b[0m \u001b[0;32min\u001b[0m \u001b[0mrange\u001b[0m\u001b[0;34m(\u001b[0m\u001b[0;36m0\u001b[0m\u001b[0;34m,\u001b[0m \u001b[0mC\u001b[0m\u001b[0;34m)\u001b[0m\u001b[0;34m:\u001b[0m\u001b[0;34m\u001b[0m\u001b[0;34m\u001b[0m\u001b[0m\n\u001b[1;32m     69\u001b[0m \u001b[0;31m#                 beta[i, j] = strat_diversifica(apostadoresPrior[i, :], novoDinheiro[i], j)\u001b[0m\u001b[0;34m\u001b[0m\u001b[0;34m\u001b[0m\u001b[0;34m\u001b[0m\u001b[0m\n\u001b[0;32m---> 70\u001b[0;31m                 \u001b[0mbeta\u001b[0m\u001b[0;34m[\u001b[0m\u001b[0mi\u001b[0m\u001b[0;34m,\u001b[0m \u001b[0mj\u001b[0m\u001b[0;34m]\u001b[0m \u001b[0;34m=\u001b[0m \u001b[0mstrat_eq\u001b[0m\u001b[0;34m(\u001b[0m\u001b[0mapostadoresPrior\u001b[0m\u001b[0;34m[\u001b[0m\u001b[0mi\u001b[0m\u001b[0;34m,\u001b[0m \u001b[0;34m:\u001b[0m\u001b[0;34m]\u001b[0m\u001b[0;34m,\u001b[0m \u001b[0mPI\u001b[0m\u001b[0;34m,\u001b[0m \u001b[0mC\u001b[0m\u001b[0;34m,\u001b[0m \u001b[0mnovoDinheiro\u001b[0m\u001b[0;34m[\u001b[0m\u001b[0mi\u001b[0m\u001b[0;34m]\u001b[0m\u001b[0;34m,\u001b[0m \u001b[0mj\u001b[0m\u001b[0;34m)\u001b[0m\u001b[0;34m\u001b[0m\u001b[0;34m\u001b[0m\u001b[0m\n\u001b[0m\u001b[1;32m     71\u001b[0m             \u001b[0mprint\u001b[0m\u001b[0;34m(\u001b[0m\u001b[0mbeta\u001b[0m\u001b[0;34m[\u001b[0m\u001b[0mi\u001b[0m\u001b[0;34m,\u001b[0m \u001b[0;34m:\u001b[0m\u001b[0;34m]\u001b[0m\u001b[0;34m)\u001b[0m\u001b[0;34m\u001b[0m\u001b[0;34m\u001b[0m\u001b[0m\n\u001b[1;32m     72\u001b[0m \u001b[0;34m\u001b[0m\u001b[0m\n",
      "\u001b[0;32m<ipython-input-66-3c2e8408eb6e>\u001b[0m in \u001b[0;36mstrat_eq\u001b[0;34m(prior, PI, C, dinheiro, cavalo)\u001b[0m\n\u001b[1;32m     14\u001b[0m     \u001b[0mbest\u001b[0m \u001b[0;34m=\u001b[0m \u001b[0mexpect_eq\u001b[0m\u001b[0;34m(\u001b[0m\u001b[0mprior\u001b[0m\u001b[0;34m,\u001b[0m \u001b[0mPI\u001b[0m\u001b[0;34m,\u001b[0m \u001b[0mC\u001b[0m\u001b[0;34m)\u001b[0m\u001b[0;34m\u001b[0m\u001b[0;34m\u001b[0m\u001b[0m\n\u001b[1;32m     15\u001b[0m \u001b[0;34m\u001b[0m\u001b[0m\n\u001b[0;32m---> 16\u001b[0;31m     \u001b[0mprop\u001b[0m \u001b[0;34m=\u001b[0m \u001b[0;36m1\u001b[0m\u001b[0;34m/\u001b[0m\u001b[0mlen\u001b[0m\u001b[0;34m(\u001b[0m\u001b[0mbest\u001b[0m\u001b[0;34m)\u001b[0m\u001b[0;34m\u001b[0m\u001b[0;34m\u001b[0m\u001b[0m\n\u001b[0m\u001b[1;32m     17\u001b[0m     \u001b[0;32mif\u001b[0m \u001b[0mcavalo\u001b[0m \u001b[0;32min\u001b[0m \u001b[0mbest\u001b[0m\u001b[0;34m:\u001b[0m\u001b[0;34m\u001b[0m\u001b[0;34m\u001b[0m\u001b[0m\n\u001b[1;32m     18\u001b[0m         \u001b[0;32mreturn\u001b[0m \u001b[0mdinheiro\u001b[0m \u001b[0;34m*\u001b[0m \u001b[0mprop\u001b[0m\u001b[0;34m\u001b[0m\u001b[0;34m\u001b[0m\u001b[0m\n",
      "\u001b[0;31mZeroDivisionError\u001b[0m: division by zero"
     ]
    }
   ],
   "source": [
    "\n",
    "\n",
    "C = 8\n",
    "A = 4\n",
    "\n",
    "allDinheiros = []\n",
    "rodadas = 1\n",
    "\n",
    "for i in range(0, rodadas):\n",
    "\n",
    "    Pcavalos = np.array([0.25, 0.2, 0.15, 0.1, 0.1, 0.1, 0.05, 0.05])\n",
    "\n",
    "\n",
    "    apostadoresPrior = np.array([[0.8, 0.2, 0, 0, 0, 0, 0, 0],\n",
    "                        [0.25, 0.2, 0.15, 0.1, 0.1, 0.1, 0.05, 0.05],\n",
    "                        [0.125, 0.125, 0.125, 0.125, 0.125, 0.125, 0.125, 0.125],\n",
    "                        [0, 0, 0, 0, 0, 0, 0.2, 0.8]])\n",
    "\n",
    "    dinheiroPrior = np.array([0.2, 0.1, 0.5, 0.2])\n",
    "\n",
    "    beta = np.zeros((A, C))\n",
    "\n",
    "    for i in range(0, A):\n",
    "        for j in range(0, C):\n",
    "            beta[i, j] = strat_diversifica(apostadoresPrior[i, :], dinheiroPrior[i], j)\n",
    "\n",
    "    PI = np.zeros(C)\n",
    "    for j in range(0, C):\n",
    "        PI[j] = np.sum(beta[:, j])\n",
    "\n",
    "    dinheiros = []\n",
    "    dinheiros.append(dinheiroPrior)\n",
    "    dinheiroRestante = np.zeros(A)\n",
    "\n",
    "    while(True):\n",
    "        payoutAprox = 1/PI\n",
    "\n",
    "        r = random.random()\n",
    "        cavaloGanhador = 0\n",
    "        soma = 0\n",
    "        while(True):\n",
    "            soma += Pcavalos[cavaloGanhador]\n",
    "            if soma > r:\n",
    "                break\n",
    "            cavaloGanhador += 1\n",
    "\n",
    "        payout = payoutAprox[cavaloGanhador]\n",
    "    #     print(cavaloGanhador)\n",
    "\n",
    "        novoDinheiro = beta[:, cavaloGanhador]*payout + dinheiroRestante\n",
    "        print()\n",
    "#         print(beta[:, cavaloGanhador]*payout)\n",
    "#         print(dinheiroRestante)\n",
    "#         print(novoDinheiro)\n",
    "        \n",
    "    #     print(novoDinheiro)\n",
    "\n",
    "        dinheiros.append(novoDinheiro)\n",
    "\n",
    "        zeroCount = 0\n",
    "        for i in range(0, A):\n",
    "            if(novoDinheiro[i] < 0.001):\n",
    "                zeroCount += 1\n",
    "        if zeroCount > 2:\n",
    "            break\n",
    "\n",
    "        for i in range(0, A):\n",
    "            for j in range(0, C):\n",
    "#                 beta[i, j] = strat_diversifica(apostadoresPrior[i, :], novoDinheiro[i], j)\n",
    "                beta[i, j] = strat_eq(apostadoresPrior[i, :], PI, C, novoDinheiro[i], j)\n",
    "            print(beta[i, :])\n",
    "                \n",
    "            dinheiroRestante[i] = novoDinheiro[i] - np.sum(beta[i, :])\n",
    "        \n",
    "        print()\n",
    "        for j in range(0, C):\n",
    "            PI[j] = np.sum(beta[:, j])\n",
    "            print(PI[j])\n",
    "        \n",
    "    allDinheiros.append(np.array(dinheiros))    "
   ]
  },
  {
   "cell_type": "code",
   "execution_count": 75,
   "metadata": {},
   "outputs": [
    {
     "data": {
      "image/png": "[encoded data removed]",
      "text/plain": [
       "<Figure size 432x288 with 1 Axes>"
      ]
     },
     "metadata": {
      "needs_background": "light"
     },
     "output_type": "display_data"
    }
   ],
   "source": [
    "allDinheiros = np.array(allDinheiros)\n",
    "ganhadores = []\n",
    "colors = ['g', 'r', 'b', 'y']\n",
    "\n",
    "for i in range(0, rodadas):\n",
    "    l = len(allDinheiros[i])\n",
    "    ganhadores.append (np.argmax(allDinheiros[i][l-1]))\n",
    "    for j in range(0, A):\n",
    "        plt.plot(np.linspace(0, 100, l),allDinheiros[i][:, j], colors[j])\n",
    "\n",
    "plt.show()"
   ]
  },
  {
   "cell_type": "code",
   "execution_count": 78,
   "metadata": {},
   "outputs": [
    {
     "data": {
      "text/plain": [
       "(array([8., 0., 2.]), array([0, 1, 2, 3]), <a list of 3 Patch objects>)"
      ]
     },
     "execution_count": 78,
     "metadata": {},
     "output_type": "execute_result"
    },
    {
     "data": {
      "image/png": "[encoded data removed]",
      "text/plain": [
       "<Figure size 432x288 with 1 Axes>"
      ]
     },
     "metadata": {
      "needs_background": "light"
     },
     "output_type": "display_data"
    }
   ],
   "source": [
    "plt.hist(ganhadores, bins = [0, 1, 2, 3])"
   ]
  },
  {
   "cell_type": "code",
   "execution_count": 82,
   "metadata": {},
   "outputs": [
    {
     "data": {
      "text/plain": [
       "array([[0.2       , 0.1       , 0.5       , 0.2       ],\n",
       "       [0.        , 0.13793103, 0.86206897, 0.        ],\n",
       "       [0.        , 0.        , 2.36406619, 0.        ]])"
      ]
     },
     "execution_count": 82,
     "metadata": {},
     "output_type": "execute_result"
    }
   ],
   "source": [
    "allDinheiros[3]"
   ]
  }
 ],
 "metadata": {
  "kernelspec": {
   "display_name": "Python 3",
   "language": "python",
   "name": "python3"
  },
  "language_info": {
   "codemirror_mode": {
    "name": "ipython",
    "version": 3
   },
   "file_extension": ".py",
   "mimetype": "text/x-python",
   "name": "python",
   "nbconvert_exporter": "python",
   "pygments_lexer": "ipython3",
   "version": "3.7.1"
  }
 },
 "nbformat": 4,
 "nbformat_minor": 2
}
