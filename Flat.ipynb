{
 "cells": [
  {
   "cell_type": "code",
   "execution_count": 2,
   "id": "phantom-cedar",
   "metadata": {},
   "outputs": [
    {
     "data": {
      "text/html": [
       "<div>\n",
       "<style scoped>\n",
       "    .dataframe tbody tr th:only-of-type {\n",
       "        vertical-align: middle;\n",
       "    }\n",
       "\n",
       "    .dataframe tbody tr th {\n",
       "        vertical-align: top;\n",
       "    }\n",
       "\n",
       "    .dataframe thead th {\n",
       "        text-align: right;\n",
       "    }\n",
       "</style>\n",
       "<table border=\"1\" class=\"dataframe\">\n",
       "  <thead>\n",
       "    <tr style=\"text-align: right;\">\n",
       "      <th></th>\n",
       "      <th>location</th>\n",
       "      <th>height</th>\n",
       "      <th>shadow</th>\n",
       "      <th>theta</th>\n",
       "    </tr>\n",
       "  </thead>\n",
       "  <tbody>\n",
       "    <tr>\n",
       "      <th>0</th>\n",
       "      <td>key largo</td>\n",
       "      <td>23</td>\n",
       "      <td>27.0</td>\n",
       "      <td>49.5739</td>\n",
       "    </tr>\n",
       "    <tr>\n",
       "      <th>1</th>\n",
       "      <td>key largo</td>\n",
       "      <td>33</td>\n",
       "      <td>38.0</td>\n",
       "      <td>49.0283</td>\n",
       "    </tr>\n",
       "    <tr>\n",
       "      <th>2</th>\n",
       "      <td>marathon</td>\n",
       "      <td>33</td>\n",
       "      <td>38.0</td>\n",
       "      <td>49.0283</td>\n",
       "    </tr>\n",
       "    <tr>\n",
       "      <th>3</th>\n",
       "      <td>clewinston</td>\n",
       "      <td>33</td>\n",
       "      <td>41.0</td>\n",
       "      <td>51.1702</td>\n",
       "    </tr>\n",
       "    <tr>\n",
       "      <th>4</th>\n",
       "      <td>okeechobee</td>\n",
       "      <td>33</td>\n",
       "      <td>41.5</td>\n",
       "      <td>51.5090</td>\n",
       "    </tr>\n",
       "  </tbody>\n",
       "</table>\n",
       "</div>"
      ],
      "text/plain": [
       "     location  height  shadow    theta\n",
       "0   key largo      23    27.0  49.5739\n",
       "1   key largo      33    38.0  49.0283\n",
       "2    marathon      33    38.0  49.0283\n",
       "3  clewinston      33    41.0  51.1702\n",
       "4  okeechobee      33    41.5  51.5090"
      ]
     },
     "execution_count": 2,
     "metadata": {},
     "output_type": "execute_result"
    }
   ],
   "source": [
    "import pandas as pd\n",
    "import numpy as np\n",
    "\n",
    "df = pd.read_csv('stick.csv', sep=';')\n",
    "df.head()"
   ]
  },
  {
   "cell_type": "code",
   "execution_count": 3,
   "id": "established-mississippi",
   "metadata": {},
   "outputs": [
    {
     "data": {
      "image/png": "[encoded data removed]",
      "text/plain": [
       "<Figure size 432x288 with 1 Axes>"
      ]
     },
     "metadata": {
      "needs_background": "light"
     },
     "output_type": "display_data"
    }
   ],
   "source": [
    "import matplotlib.pyplot as plt\n",
    "\n",
    "anglesF = np.array(df['theta'])[0:6]\n",
    "anglesP = np.array(df['theta'])[6:15]\n",
    "\n",
    "plt.plot(anglesF)\n",
    "plt.plot(anglesP)\n",
    "plt.show()"
   ]
  },
  {
   "cell_type": "code",
   "execution_count": 9,
   "id": "personalized-westminster",
   "metadata": {},
   "outputs": [],
   "source": [
    "anglesF = [62.9279]\n",
    "anglesF = [65, 65]\n",
    "anglesP = [62.6676, 61.8584]"
   ]
  },
  {
   "cell_type": "code",
   "execution_count": 10,
   "id": "centered-parameter",
   "metadata": {},
   "outputs": [
    {
     "name": "stdout",
     "output_type": "stream",
     "text": [
      "DoF:  2\n",
      "t-value:  13.529411764705905  p-value 0.005418772952225748\n"
     ]
    }
   ],
   "source": [
    "from scipy.stats import t\n",
    "\n",
    "delta = 0\n",
    "n1 = len(anglesF)\n",
    "n2 = len(anglesP)\n",
    "s1 = np.std(anglesF)\n",
    "s2 = np.std(anglesP)\n",
    "x1m = np.mean(anglesF)\n",
    "x2m = np.mean(anglesP)\n",
    "df = n1 + n2 - 2\n",
    "\n",
    "sp = np.sqrt(((n1 - 1)*s1**2 + (n2 - 1)*s2**2)/(n1 + n2))\n",
    "\n",
    "tvalue = (x1m - x2m - delta)/(sp*np.sqrt(1/n1 + 1/n2))\n",
    "\n",
    "pvalue = 2* t.cdf(-abs(tvalue), df)\n",
    "print(\"DoF: \", df)\n",
    "print(\"t-value: \", tvalue, \" p-value\", pvalue)"
   ]
  }
 ],
 "metadata": {
  "kernelspec": {
   "display_name": "Python 3",
   "language": "python",
   "name": "python3"
  },
  "language_info": {
   "codemirror_mode": {
    "name": "ipython",
    "version": 3
   },
   "file_extension": ".py",
   "mimetype": "text/x-python",
   "name": "python",
   "nbconvert_exporter": "python",
   "pygments_lexer": "ipython3",
   "version": "3.8.7"
  }
 },
 "nbformat": 4,
 "nbformat_minor": 5
}
