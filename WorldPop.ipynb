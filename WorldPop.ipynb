{
 "cells": [
  {
   "cell_type": "code",
   "execution_count": 2,
   "metadata": {},
   "outputs": [
    {
     "data": {
      "text/html": [
       "<div>\n",
       "<style scoped>\n",
       "    .dataframe tbody tr th:only-of-type {\n",
       "        vertical-align: middle;\n",
       "    }\n",
       "\n",
       "    .dataframe tbody tr th {\n",
       "        vertical-align: top;\n",
       "    }\n",
       "\n",
       "    .dataframe thead th {\n",
       "        text-align: right;\n",
       "    }\n",
       "</style>\n",
       "<table border=\"1\" class=\"dataframe\">\n",
       "  <thead>\n",
       "    <tr style=\"text-align: right;\">\n",
       "      <th></th>\n",
       "      <th>Unnamed: 0</th>\n",
       "      <th>Location</th>\n",
       "      <th>Time</th>\n",
       "      <th>PopMale</th>\n",
       "      <th>PopFemale</th>\n",
       "      <th>PopTotal</th>\n",
       "      <th>PopDensity</th>\n",
       "    </tr>\n",
       "  </thead>\n",
       "  <tbody>\n",
       "    <tr>\n",
       "      <th>0</th>\n",
       "      <td>0</td>\n",
       "      <td>Afghanistan</td>\n",
       "      <td>2001</td>\n",
       "      <td>11117.754</td>\n",
       "      <td>10489.238</td>\n",
       "      <td>21606.992</td>\n",
       "      <td>33.096</td>\n",
       "    </tr>\n",
       "    <tr>\n",
       "      <th>1</th>\n",
       "      <td>1</td>\n",
       "      <td>Afghanistan</td>\n",
       "      <td>2002</td>\n",
       "      <td>11642.106</td>\n",
       "      <td>10958.668</td>\n",
       "      <td>22600.774</td>\n",
       "      <td>34.618</td>\n",
       "    </tr>\n",
       "    <tr>\n",
       "      <th>2</th>\n",
       "      <td>2</td>\n",
       "      <td>Afghanistan</td>\n",
       "      <td>2003</td>\n",
       "      <td>12214.634</td>\n",
       "      <td>11466.237</td>\n",
       "      <td>23680.871</td>\n",
       "      <td>36.273</td>\n",
       "    </tr>\n",
       "    <tr>\n",
       "      <th>3</th>\n",
       "      <td>3</td>\n",
       "      <td>Afghanistan</td>\n",
       "      <td>2004</td>\n",
       "      <td>12763.726</td>\n",
       "      <td>11962.963</td>\n",
       "      <td>24726.689</td>\n",
       "      <td>37.874</td>\n",
       "    </tr>\n",
       "    <tr>\n",
       "      <th>4</th>\n",
       "      <td>4</td>\n",
       "      <td>Afghanistan</td>\n",
       "      <td>2005</td>\n",
       "      <td>13239.684</td>\n",
       "      <td>12414.59</td>\n",
       "      <td>25654.274</td>\n",
       "      <td>39.295</td>\n",
       "    </tr>\n",
       "  </tbody>\n",
       "</table>\n",
       "</div>"
      ],
      "text/plain": [
       "   Unnamed: 0     Location  Time    PopMale  PopFemale   PopTotal  PopDensity\n",
       "0           0  Afghanistan  2001  11117.754  10489.238  21606.992      33.096\n",
       "1           1  Afghanistan  2002  11642.106  10958.668  22600.774      34.618\n",
       "2           2  Afghanistan  2003  12214.634  11466.237  23680.871      36.273\n",
       "3           3  Afghanistan  2004  12763.726  11962.963  24726.689      37.874\n",
       "4           4  Afghanistan  2005  13239.684   12414.59  25654.274      39.295"
      ]
     },
     "execution_count": 2,
     "metadata": {},
     "output_type": "execute_result"
    }
   ],
   "source": [
    "import pandas as pd\n",
    "import numpy as np\n",
    "\n",
    "df = pd.read_csv('20 Years world Population Dataset (2000-2020).csv')\n",
    "df = df.replace(',','.', regex=True)\n",
    "df.head()"
   ]
  },
  {
   "cell_type": "code",
   "execution_count": 3,
   "metadata": {},
   "outputs": [],
   "source": [
    "popMaleBr = np.array(df[df[\"Location\"] == \"Brazil\"][\"PopMale\"], float)*1000\n",
    "popFemBr = np.array(df[df[\"Location\"] == \"Brazil\"][\"PopFemale\"], float)*1000\n",
    "popBr = np.array(df[df[\"Location\"] == \"Brazil\"][\"PopTotal\"], float)*1000"
   ]
  },
  {
   "cell_type": "code",
   "execution_count": 4,
   "metadata": {},
   "outputs": [
    {
     "data": {
      "image/png": "[encoded data removed]",
      "text/plain": [
       "<Figure size 432x288 with 1 Axes>"
      ]
     },
     "metadata": {
      "needs_background": "light"
     },
     "output_type": "display_data"
    }
   ],
   "source": [
    "import matplotlib.pyplot as plt\n",
    "\n",
    "plt.plot(popBr)\n",
    "plt.show()"
   ]
  },
  {
   "cell_type": "code",
   "execution_count": 5,
   "metadata": {},
   "outputs": [
    {
     "data": {
      "image/png": "[encoded data removed]",
      "text/plain": [
       "<Figure size 432x288 with 1 Axes>"
      ]
     },
     "metadata": {
      "needs_background": "light"
     },
     "output_type": "display_data"
    }
   ],
   "source": [
    "popBrInc = popBr[1:] -popBr[0:len(popBr)-1]\n",
    "plt.hist(popBrInc)\n",
    "plt.show()"
   ]
  },
  {
   "cell_type": "code",
   "execution_count": 8,
   "metadata": {},
   "outputs": [],
   "source": [
    "popBrIncF = popFemBr[1:] - popFemBr[0:len(popFemBr)-1]\n",
    "popBrIncM = popMaleBr[1:] - popMaleBr[0:len(popFemBr)-1]"
   ]
  },
  {
   "cell_type": "code",
   "execution_count": 34,
   "metadata": {},
   "outputs": [
    {
     "name": "stdout",
     "output_type": "stream",
     "text": [
      "DoF:  36\n",
      "t-value:  2.8430975654524455  p-value 0.0073176388580520335\n"
     ]
    }
   ],
   "source": [
    "from scipy.stats import t\n",
    "\n",
    "delta = 0\n",
    "n1 = len(popBrIncF)\n",
    "n2 = len(popBrIncM)\n",
    "s1 = np.std(popBrIncF)\n",
    "s2 = np.std(popBrIncM)\n",
    "x1m = np.mean(popBrIncF)\n",
    "x2m = np.mean(popBrIncM)\n",
    "df = n1 + n2 - 2\n",
    "\n",
    "sp = np.sqrt(((n1 - 1)*s1**2 + (n2 - 1)*s2**2)/(n1 + n2))\n",
    "\n",
    "tvalue = (x1m - x2m - delta)/(sp*np.sqrt(1/n1 + 1/n2))\n",
    "\n",
    "pvalue = 2  - 2* t.cdf(tvalue, df)\n",
    "print(\"DoF: \", df)\n",
    "print(\"t-value: \", tvalue, \" p-value\", pvalue)"
   ]
  },
  {
   "cell_type": "code",
   "execution_count": 57,
   "metadata": {},
   "outputs": [
    {
     "name": "stderr",
     "output_type": "stream",
     "text": [
      "The PostScript backend does not support transparency; partially transparent artists will be rendered opaque.\n",
      "The PostScript backend does not support transparency; partially transparent artists will be rendered opaque.\n"
     ]
    },
    {
     "data": {
      "image/png": "[encoded data removed]",
      "text/plain": [
       "<Figure size 432x288 with 1 Axes>"
      ]
     },
     "metadata": {
      "needs_background": "light"
     },
     "output_type": "display_data"
    }
   ],
   "source": [
    "plt.plot(range(2002,2021), popBrIncF, linewidth = '3')\n",
    "plt.plot(range(2002,2021), popBrIncM, linewidth = '3')\n",
    "plt.xticks(range(2002,2021), rotation ='vertical')\n",
    "plt.grid()\n",
    "plt.xlabel(\"Ano\")\n",
    "plt.ylabel(\"Aumento Populacional\")\n",
    "plt.legend([\"Mulheres\", \"Homens\"])\n",
    "plt.savefig('aumento.eps', format='eps')\n",
    "plt.show()\n"
   ]
  },
  {
   "cell_type": "code",
   "execution_count": 47,
   "metadata": {},
   "outputs": [
    {
     "data": {
      "text/plain": [
       "20"
      ]
     },
     "execution_count": 47,
     "metadata": {},
     "output_type": "execute_result"
    }
   ],
   "source": []
  }
 ],
 "metadata": {
  "kernelspec": {
   "display_name": "Python 3",
   "language": "python",
   "name": "python3"
  },
  "language_info": {
   "codemirror_mode": {
    "name": "ipython",
    "version": 3
   },
   "file_extension": ".py",
   "mimetype": "text/x-python",
   "name": "python",
   "nbconvert_exporter": "python",
   "pygments_lexer": "ipython3",
   "version": "3.8.7"
  }
 },
 "nbformat": 4,
 "nbformat_minor": 4
}
